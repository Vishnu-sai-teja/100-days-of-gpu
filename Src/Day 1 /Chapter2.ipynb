{
  "nbformat": 4,
  "nbformat_minor": 0,
  "metadata": {
    "colab": {
      "provenance": [],
      "gpuType": "T4"
    },
    "kernelspec": {
      "name": "python3",
      "display_name": "Python 3"
    },
    "language_info": {
      "name": "python"
    },
    "accelerator": "GPU"
  },
  "cells": [
    {
      "cell_type": "code",
      "source": [
        "!apt-get install nvidia-cuda-toolkit"
      ],
      "metadata": {
        "colab": {
          "base_uri": "https://localhost:8080/"
        },
        "collapsed": true,
        "id": "lMvazqqOGWgI",
        "outputId": "70d1d642-64bf-4e4c-b7e3-1dedb6abe660"
      },
      "execution_count": 6,
      "outputs": [
        {
          "output_type": "stream",
          "name": "stdout",
          "text": [
            "Reading package lists... Done\n",
            "Building dependency tree... Done\n",
            "Reading state information... Done\n",
            "nvidia-cuda-toolkit is already the newest version (11.5.1-1ubuntu1).\n",
            "0 upgraded, 0 newly installed, 0 to remove and 29 not upgraded.\n"
          ]
        }
      ]
    },
    {
      "cell_type": "code",
      "source": [
        "!nvcc --version    # Shows CUDA compiler version\n",
        "!nvidia-smi        # Shows driver version and compatible CUDA version\n"
      ],
      "metadata": {
        "colab": {
          "base_uri": "https://localhost:8080/"
        },
        "id": "fS9-kNYTKYjp",
        "outputId": "d4025dd1-7cca-49b3-861c-7008ed73f094"
      },
      "execution_count": 7,
      "outputs": [
        {
          "output_type": "stream",
          "name": "stdout",
          "text": [
            "nvcc: NVIDIA (R) Cuda compiler driver\n",
            "Copyright (c) 2005-2024 NVIDIA Corporation\n",
            "Built on Thu_Jun__6_02:18:23_PDT_2024\n",
            "Cuda compilation tools, release 12.5, V12.5.82\n",
            "Build cuda_12.5.r12.5/compiler.34385749_0\n",
            "Thu Mar 13 06:20:46 2025       \n",
            "+-----------------------------------------------------------------------------------------+\n",
            "| NVIDIA-SMI 550.54.15              Driver Version: 550.54.15      CUDA Version: 12.4     |\n",
            "|-----------------------------------------+------------------------+----------------------+\n",
            "| GPU  Name                 Persistence-M | Bus-Id          Disp.A | Volatile Uncorr. ECC |\n",
            "| Fan  Temp   Perf          Pwr:Usage/Cap |           Memory-Usage | GPU-Util  Compute M. |\n",
            "|                                         |                        |               MIG M. |\n",
            "|=========================================+========================+======================|\n",
            "|   0  Tesla T4                       Off |   00000000:00:04.0 Off |                    0 |\n",
            "| N/A   40C    P8              9W /   70W |       0MiB /  15360MiB |      0%      Default |\n",
            "|                                         |                        |                  N/A |\n",
            "+-----------------------------------------+------------------------+----------------------+\n",
            "                                                                                         \n",
            "+-----------------------------------------------------------------------------------------+\n",
            "| Processes:                                                                              |\n",
            "|  GPU   GI   CI        PID   Type   Process name                              GPU Memory |\n",
            "|        ID   ID                                                               Usage      |\n",
            "|=========================================================================================|\n",
            "|  No running processes found                                                             |\n",
            "+-----------------------------------------------------------------------------------------+\n"
          ]
        }
      ]
    },
    {
      "cell_type": "code",
      "source": [
        "%%writefile vector_add.cu\n",
        "#include <stdio.h>\n",
        "\n",
        "__global__\n",
        "void vector_addition_kernel(float *A, float *B, float *C, int n){\n",
        "  int i = blockDim.x * blockIdx.x + threadIdx.x ;\n",
        "  if (i < n){\n",
        "    C[i] = A[i] + B[i];\n",
        "  }\n",
        "}\n",
        "\n",
        "__host__\n",
        "void vector_addition_host(float *A, float *B, float *C, int n){\n",
        "  // Create the varaiables inside the device and copy the values from host to device\n",
        "  float *A_d, *B_d, *C_d;\n",
        "  int size = n * sizeof(float);\n",
        "  cudaMalloc((void **) &A_d, size);\n",
        "  cudaMalloc((void **) &B_d, size);\n",
        "  cudaMalloc((void **) &C_d, size);\n",
        "\n",
        "  cudaMemcpy(A_d, A, size, cudaMemcpyHostToDevice);\n",
        "  cudaMemcpy(B_d, B, size, cudaMemcpyHostToDevice);\n",
        "\n",
        "  // process vector vector_addition\n",
        "  vector_addition_kernel <<<int(ceil(n/256.0)), 256>>>(A_d, B_d, C_d, n);\n",
        "\n",
        "  // copy back from device to host and free the memory\n",
        "  cudaMemcpy(C, C_d, size, cudaMemcpyDeviceToHost);\n",
        "  cudaFree(A_d);\n",
        "  cudaFree(B_d);\n",
        "  cudaFree(C_d);\n",
        "  for(int i=0; i<5; i++){\n",
        "    printf(\"C at %d position is %f\\n\", i, C[i]);\n",
        "  }\n",
        "}\n",
        "int main(){\n",
        "  float *A, *B, *C;\n",
        "\n",
        "  float X[5] = {1, 2, 3, 4, 5};\n",
        "  float Y[5] = {6, 7, 8, 9, 10};\n",
        "  float Z[5] = {};\n",
        "\n",
        "  A = &X[0];\n",
        "  B = &Y[0];\n",
        "  C = &Z[0];\n",
        "  vector_addition_host(A, B, C, 5);\n",
        "}"
      ],
      "metadata": {
        "colab": {
          "base_uri": "https://localhost:8080/"
        },
        "id": "Uqug-NltGdYr",
        "outputId": "d2c68208-f216-4b9a-eeb4-3c14b7a75cd4"
      },
      "execution_count": 8,
      "outputs": [
        {
          "output_type": "stream",
          "name": "stdout",
          "text": [
            "Overwriting vector_add.cu\n"
          ]
        }
      ]
    },
    {
      "cell_type": "code",
      "source": [
        "!nvcc -arch=sm_75 vector_add.cu -o vector_add"
      ],
      "metadata": {
        "id": "p2P81cWL5RvC"
      },
      "execution_count": 9,
      "outputs": []
    },
    {
      "cell_type": "code",
      "source": [
        "!./vector_add"
      ],
      "metadata": {
        "colab": {
          "base_uri": "https://localhost:8080/"
        },
        "id": "az2Gy9bqGqx1",
        "outputId": "2ad7b403-5761-46c7-c2bd-0a2de87d95c2"
      },
      "execution_count": 10,
      "outputs": [
        {
          "output_type": "stream",
          "name": "stdout",
          "text": [
            "C at 0 position is 7.000000\n",
            "C at 1 position is 9.000000\n",
            "C at 2 position is 11.000000\n",
            "C at 3 position is 13.000000\n",
            "C at 4 position is 15.000000\n"
          ]
        }
      ]
    }
  ]
}